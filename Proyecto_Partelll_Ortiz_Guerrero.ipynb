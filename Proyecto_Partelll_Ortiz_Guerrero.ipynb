{
  "nbformat": 4,
  "nbformat_minor": 0,
  "metadata": {
    "colab": {
      "provenance": []
    },
    "kernelspec": {
      "name": "python3",
      "display_name": "Python 3"
    },
    "language_info": {
      "name": "python"
    }
  },
  "cells": [
    {
      "cell_type": "markdown",
      "source": [
        "# Resumen\n",
        "Este proyecto de ciencia de datos tiene como objetivo analizar un conjunto de datos de jugadores de fútbol para predecir su valor de mercado actual y su rendimiento futuro. Utilizando técnicas de análisis y modelado de datos, se pretende ayudar a los clubes de fútbol a tomar decisiones informadas sobre la adquisición y desarrollo de talento. Los hallazgos clave incluyen la identificación de las características más influyentes en el valor de mercado y el rendimiento de los jugadores, así como la evaluación de modelos predictivos que ofrecen una precisión razonable en estas tareas."
      ],
      "metadata": {
        "id": "yHIyxLymFSE8"
      }
    },
    {
      "cell_type": "markdown",
      "source": [
        "# Objetivo\n",
        "\n",
        "El objetivo principal de este proyecto es desarrollar modelos predictivos para:\n",
        "\n",
        "1.-Estimar el valor de mercado actual de los jugadores de fútbol.\n",
        "\n",
        "2.-Predecir métricas de rendimiento futuro como goles, asistencias y minutos jugados."
      ],
      "metadata": {
        "id": "ntc1oI64Ixie"
      }
    },
    {
      "cell_type": "markdown",
      "source": [
        "# Contexto Comercial\n",
        "\n",
        "Imaginemos que trabajamos para un club de fútbol profesional, \"Futbol Club Excelencia\", que busca maximizar el rendimiento de su equipo y optimizar sus inversiones en jugadores. El club desea implementar un sistema basado en ciencia de datos que les permita evaluar el valor actual de sus jugadores y predecir su rendimiento futuro. Con esta información, el club podrá tomar decisiones más informadas en cuanto a la compra y venta de jugadores, y en la planificación de estrategias de formación y desarrollo."
      ],
      "metadata": {
        "id": "YfP-MakxJG5j"
      }
    },
    {
      "cell_type": "markdown",
      "source": [
        "# Hipotesis\n",
        "Hipótesis sobre el Valor del Jugador: Se supone que características como el número de apariciones, goles, asistencias, y la posición del jugador tienen una relación significativa con su valor de mercado actual.\n",
        "\n",
        "Hipótesis sobre el Rendimiento Futuro: Se espera que el rendimiento futuro de un jugador (medido en términos de goles, asistencias y minutos jugados) pueda ser predicho razonablemente a partir de sus datos históricos y características demográficas."
      ],
      "metadata": {
        "id": "3qykAOWxJWkl"
      }
    },
    {
      "cell_type": "markdown",
      "source": [
        "# Procedimiento\n",
        "\n",
        "1.-**Recolección de Datos:** Obtención de un dataset detallado con estadísticas y características de los jugadores.\n",
        "\n",
        "2.-**Preprocesamiento de Datos:** Limpieza y transformación de los datos, incluyendo la codificación de variables categóricas y la normalización de variables numéricas.\n",
        "\n",
        "3.-**Análisis Exploratorio de Datos (EDA):** Visualización y análisis estadístico para comprender mejor las relaciones entre las variables.\n",
        "\n",
        "4.-**Entrenamiento del Modelo:** Implementación y ajuste de modelos de regresión para predecir el valor actual de los jugadores y su rendimiento futuro.\n",
        "\n",
        "5.-**Evaluación del Modelo:** Medición del rendimiento de los modelos utilizando métricas como RMSE y MAE.\n",
        "\n",
        "6.-**Interpretación de Resultados:** Análisis de la importancia de las características y los factores que más influyen en las predicciones."
      ],
      "metadata": {
        "id": "9EQHzGlOKSPF"
      }
    },
    {
      "cell_type": "markdown",
      "source": [
        "# Implementación del Modelo\n",
        "**Paso 1: Preparación de los Datos**\n",
        "\n",
        "Preprocesamos los datos eliminando columnas irrelevantes, codificando variables categóricas y normalizando variables numéricas.\n",
        "\n",
        "**Paso 2: Análisis Exploratorio de Datos (EDA)**\n",
        "\n",
        "Realizamos un análisis exploratorio para visualizar las distribuciones de las características y las relaciones entre las variables.\n",
        "\n",
        "**Paso 3: Entrenamiento del Modelo**\n",
        "\n",
        "Dividimos los datos en conjuntos de entrenamiento y prueba, y entrenamos un modelo de regresión (Random Forest Regressor) para predecir el valor actual de los jugadores.\n",
        "\n",
        "**Paso 4: Evaluación del Modelo**\n",
        "\n",
        "Evaluamos el modelo utilizando métricas como el RMSE.\n",
        "\n",
        "**Paso 5: Predicción del Rendimiento Futuro**\n",
        "\n",
        "Desarrollamos y entrenamos modelos adicionales para predecir métricas de rendimiento futuro como goles, asistencias y minutos jugados."
      ],
      "metadata": {
        "id": "mOXcAIb3LEsp"
      }
    },
    {
      "cell_type": "code",
      "execution_count": 1,
      "metadata": {
        "id": "n-Wjxy5uEV_J"
      },
      "outputs": [],
      "source": [
        "#Importamos librerias necesarias\n",
        "import pandas as pd\n",
        "import numpy as np\n",
        "from sklearn.model_selection import train_test_split\n",
        "from sklearn.preprocessing import StandardScaler, OneHotEncoder\n",
        "from sklearn.compose import ColumnTransformer\n",
        "from sklearn.pipeline import Pipeline\n",
        "from sklearn.ensemble import RandomForestRegressor\n",
        "from sklearn.metrics import mean_squared_error\n"
      ]
    },
    {
      "cell_type": "code",
      "source": [
        "# Cargamos el dataset\n",
        "data = pd.read_csv('Prediccion_jugadores_soccer.csv')"
      ],
      "metadata": {
        "id": "0QbT4n6pMA1a"
      },
      "execution_count": 4,
      "outputs": []
    },
    {
      "cell_type": "code",
      "source": [
        "# Seleccionamos las características y la variable objetivo\n",
        "features = data.drop(columns=['player', 'name', 'current_value'])\n",
        "target = data['current_value']"
      ],
      "metadata": {
        "id": "mYRBNi5GMPik"
      },
      "execution_count": 5,
      "outputs": []
    },
    {
      "cell_type": "code",
      "source": [
        "# Identificamos las variables categóricas y numéricas\n",
        "categorical_features = ['team', 'position']\n",
        "numeric_features = features.select_dtypes(include=['float64', 'int64']).columns.tolist()\n",
        "numeric_features = [col for col in numeric_features if col not in categorical_features]"
      ],
      "metadata": {
        "id": "CL1uUtWyMcdS"
      },
      "execution_count": 6,
      "outputs": []
    },
    {
      "cell_type": "code",
      "source": [
        "# Dividimos el conjunto de datos en entrenamiento y prueba\n",
        "X_train, X_test, y_train, y_test = train_test_split(features, target, test_size=0.2, random_state=42)"
      ],
      "metadata": {
        "id": "KljLuE0VMmcD"
      },
      "execution_count": 7,
      "outputs": []
    },
    {
      "cell_type": "code",
      "source": [
        "# Preprocesamiento: codificación de variables categóricas y normalización de variables numéricas\n",
        "preprocessor = ColumnTransformer(\n",
        "    transformers=[\n",
        "        ('num', StandardScaler(), numeric_features),\n",
        "        ('cat', OneHotEncoder(), categorical_features)\n",
        "    ])"
      ],
      "metadata": {
        "id": "L0JdOmGBMuYZ"
      },
      "execution_count": 8,
      "outputs": []
    },
    {
      "cell_type": "code",
      "source": [
        "# Crear el pipeline con el preprocesador y el modelo\n",
        "model = Pipeline(steps=[\n",
        "    ('preprocessor', preprocessor),\n",
        "    ('regressor', RandomForestRegressor(n_estimators=100, random_state=42))\n",
        "])"
      ],
      "metadata": {
        "id": "Qtm38SsCM0Aq"
      },
      "execution_count": 9,
      "outputs": []
    },
    {
      "cell_type": "code",
      "source": [
        "# Entrenamiento del modelo\n",
        "model.fit(X_train, y_train)"
      ],
      "metadata": {
        "colab": {
          "base_uri": "https://localhost:8080/",
          "height": 192
        },
        "id": "DXNebPiuM-9w",
        "outputId": "59ddb5e5-c817-4350-aa45-5d1fe2c7154b"
      },
      "execution_count": 10,
      "outputs": [
        {
          "output_type": "execute_result",
          "data": {
            "text/plain": [
              "Pipeline(steps=[('preprocessor',\n",
              "                 ColumnTransformer(transformers=[('num', StandardScaler(),\n",
              "                                                  ['height', 'age',\n",
              "                                                   'appearance', 'goals',\n",
              "                                                   'assists', 'yellow cards',\n",
              "                                                   'second yellow cards',\n",
              "                                                   'red cards',\n",
              "                                                   'goals conceded',\n",
              "                                                   'clean sheets',\n",
              "                                                   'minutes played',\n",
              "                                                   'days_injured',\n",
              "                                                   'games_injured', 'award',\n",
              "                                                   'highest_value',\n",
              "                                                   'position_encoded',\n",
              "                                                   'winger']),\n",
              "                                                 ('cat', OneHotEncoder(),\n",
              "                                                  ['team', 'position'])])),\n",
              "                ('regressor', RandomForestRegressor(random_state=42))])"
            ],
            "text/html": [
              "<style>#sk-container-id-1 {color: black;background-color: white;}#sk-container-id-1 pre{padding: 0;}#sk-container-id-1 div.sk-toggleable {background-color: white;}#sk-container-id-1 label.sk-toggleable__label {cursor: pointer;display: block;width: 100%;margin-bottom: 0;padding: 0.3em;box-sizing: border-box;text-align: center;}#sk-container-id-1 label.sk-toggleable__label-arrow:before {content: \"▸\";float: left;margin-right: 0.25em;color: #696969;}#sk-container-id-1 label.sk-toggleable__label-arrow:hover:before {color: black;}#sk-container-id-1 div.sk-estimator:hover label.sk-toggleable__label-arrow:before {color: black;}#sk-container-id-1 div.sk-toggleable__content {max-height: 0;max-width: 0;overflow: hidden;text-align: left;background-color: #f0f8ff;}#sk-container-id-1 div.sk-toggleable__content pre {margin: 0.2em;color: black;border-radius: 0.25em;background-color: #f0f8ff;}#sk-container-id-1 input.sk-toggleable__control:checked~div.sk-toggleable__content {max-height: 200px;max-width: 100%;overflow: auto;}#sk-container-id-1 input.sk-toggleable__control:checked~label.sk-toggleable__label-arrow:before {content: \"▾\";}#sk-container-id-1 div.sk-estimator input.sk-toggleable__control:checked~label.sk-toggleable__label {background-color: #d4ebff;}#sk-container-id-1 div.sk-label input.sk-toggleable__control:checked~label.sk-toggleable__label {background-color: #d4ebff;}#sk-container-id-1 input.sk-hidden--visually {border: 0;clip: rect(1px 1px 1px 1px);clip: rect(1px, 1px, 1px, 1px);height: 1px;margin: -1px;overflow: hidden;padding: 0;position: absolute;width: 1px;}#sk-container-id-1 div.sk-estimator {font-family: monospace;background-color: #f0f8ff;border: 1px dotted black;border-radius: 0.25em;box-sizing: border-box;margin-bottom: 0.5em;}#sk-container-id-1 div.sk-estimator:hover {background-color: #d4ebff;}#sk-container-id-1 div.sk-parallel-item::after {content: \"\";width: 100%;border-bottom: 1px solid gray;flex-grow: 1;}#sk-container-id-1 div.sk-label:hover label.sk-toggleable__label {background-color: #d4ebff;}#sk-container-id-1 div.sk-serial::before {content: \"\";position: absolute;border-left: 1px solid gray;box-sizing: border-box;top: 0;bottom: 0;left: 50%;z-index: 0;}#sk-container-id-1 div.sk-serial {display: flex;flex-direction: column;align-items: center;background-color: white;padding-right: 0.2em;padding-left: 0.2em;position: relative;}#sk-container-id-1 div.sk-item {position: relative;z-index: 1;}#sk-container-id-1 div.sk-parallel {display: flex;align-items: stretch;justify-content: center;background-color: white;position: relative;}#sk-container-id-1 div.sk-item::before, #sk-container-id-1 div.sk-parallel-item::before {content: \"\";position: absolute;border-left: 1px solid gray;box-sizing: border-box;top: 0;bottom: 0;left: 50%;z-index: -1;}#sk-container-id-1 div.sk-parallel-item {display: flex;flex-direction: column;z-index: 1;position: relative;background-color: white;}#sk-container-id-1 div.sk-parallel-item:first-child::after {align-self: flex-end;width: 50%;}#sk-container-id-1 div.sk-parallel-item:last-child::after {align-self: flex-start;width: 50%;}#sk-container-id-1 div.sk-parallel-item:only-child::after {width: 0;}#sk-container-id-1 div.sk-dashed-wrapped {border: 1px dashed gray;margin: 0 0.4em 0.5em 0.4em;box-sizing: border-box;padding-bottom: 0.4em;background-color: white;}#sk-container-id-1 div.sk-label label {font-family: monospace;font-weight: bold;display: inline-block;line-height: 1.2em;}#sk-container-id-1 div.sk-label-container {text-align: center;}#sk-container-id-1 div.sk-container {/* jupyter's `normalize.less` sets `[hidden] { display: none; }` but bootstrap.min.css set `[hidden] { display: none !important; }` so we also need the `!important` here to be able to override the default hidden behavior on the sphinx rendered scikit-learn.org. See: https://github.com/scikit-learn/scikit-learn/issues/21755 */display: inline-block !important;position: relative;}#sk-container-id-1 div.sk-text-repr-fallback {display: none;}</style><div id=\"sk-container-id-1\" class=\"sk-top-container\"><div class=\"sk-text-repr-fallback\"><pre>Pipeline(steps=[(&#x27;preprocessor&#x27;,\n",
              "                 ColumnTransformer(transformers=[(&#x27;num&#x27;, StandardScaler(),\n",
              "                                                  [&#x27;height&#x27;, &#x27;age&#x27;,\n",
              "                                                   &#x27;appearance&#x27;, &#x27;goals&#x27;,\n",
              "                                                   &#x27;assists&#x27;, &#x27;yellow cards&#x27;,\n",
              "                                                   &#x27;second yellow cards&#x27;,\n",
              "                                                   &#x27;red cards&#x27;,\n",
              "                                                   &#x27;goals conceded&#x27;,\n",
              "                                                   &#x27;clean sheets&#x27;,\n",
              "                                                   &#x27;minutes played&#x27;,\n",
              "                                                   &#x27;days_injured&#x27;,\n",
              "                                                   &#x27;games_injured&#x27;, &#x27;award&#x27;,\n",
              "                                                   &#x27;highest_value&#x27;,\n",
              "                                                   &#x27;position_encoded&#x27;,\n",
              "                                                   &#x27;winger&#x27;]),\n",
              "                                                 (&#x27;cat&#x27;, OneHotEncoder(),\n",
              "                                                  [&#x27;team&#x27;, &#x27;position&#x27;])])),\n",
              "                (&#x27;regressor&#x27;, RandomForestRegressor(random_state=42))])</pre><b>In a Jupyter environment, please rerun this cell to show the HTML representation or trust the notebook. <br />On GitHub, the HTML representation is unable to render, please try loading this page with nbviewer.org.</b></div><div class=\"sk-container\" hidden><div class=\"sk-item sk-dashed-wrapped\"><div class=\"sk-label-container\"><div class=\"sk-label sk-toggleable\"><input class=\"sk-toggleable__control sk-hidden--visually\" id=\"sk-estimator-id-1\" type=\"checkbox\" ><label for=\"sk-estimator-id-1\" class=\"sk-toggleable__label sk-toggleable__label-arrow\">Pipeline</label><div class=\"sk-toggleable__content\"><pre>Pipeline(steps=[(&#x27;preprocessor&#x27;,\n",
              "                 ColumnTransformer(transformers=[(&#x27;num&#x27;, StandardScaler(),\n",
              "                                                  [&#x27;height&#x27;, &#x27;age&#x27;,\n",
              "                                                   &#x27;appearance&#x27;, &#x27;goals&#x27;,\n",
              "                                                   &#x27;assists&#x27;, &#x27;yellow cards&#x27;,\n",
              "                                                   &#x27;second yellow cards&#x27;,\n",
              "                                                   &#x27;red cards&#x27;,\n",
              "                                                   &#x27;goals conceded&#x27;,\n",
              "                                                   &#x27;clean sheets&#x27;,\n",
              "                                                   &#x27;minutes played&#x27;,\n",
              "                                                   &#x27;days_injured&#x27;,\n",
              "                                                   &#x27;games_injured&#x27;, &#x27;award&#x27;,\n",
              "                                                   &#x27;highest_value&#x27;,\n",
              "                                                   &#x27;position_encoded&#x27;,\n",
              "                                                   &#x27;winger&#x27;]),\n",
              "                                                 (&#x27;cat&#x27;, OneHotEncoder(),\n",
              "                                                  [&#x27;team&#x27;, &#x27;position&#x27;])])),\n",
              "                (&#x27;regressor&#x27;, RandomForestRegressor(random_state=42))])</pre></div></div></div><div class=\"sk-serial\"><div class=\"sk-item sk-dashed-wrapped\"><div class=\"sk-label-container\"><div class=\"sk-label sk-toggleable\"><input class=\"sk-toggleable__control sk-hidden--visually\" id=\"sk-estimator-id-2\" type=\"checkbox\" ><label for=\"sk-estimator-id-2\" class=\"sk-toggleable__label sk-toggleable__label-arrow\">preprocessor: ColumnTransformer</label><div class=\"sk-toggleable__content\"><pre>ColumnTransformer(transformers=[(&#x27;num&#x27;, StandardScaler(),\n",
              "                                 [&#x27;height&#x27;, &#x27;age&#x27;, &#x27;appearance&#x27;, &#x27;goals&#x27;,\n",
              "                                  &#x27;assists&#x27;, &#x27;yellow cards&#x27;,\n",
              "                                  &#x27;second yellow cards&#x27;, &#x27;red cards&#x27;,\n",
              "                                  &#x27;goals conceded&#x27;, &#x27;clean sheets&#x27;,\n",
              "                                  &#x27;minutes played&#x27;, &#x27;days_injured&#x27;,\n",
              "                                  &#x27;games_injured&#x27;, &#x27;award&#x27;, &#x27;highest_value&#x27;,\n",
              "                                  &#x27;position_encoded&#x27;, &#x27;winger&#x27;]),\n",
              "                                (&#x27;cat&#x27;, OneHotEncoder(), [&#x27;team&#x27;, &#x27;position&#x27;])])</pre></div></div></div><div class=\"sk-parallel\"><div class=\"sk-parallel-item\"><div class=\"sk-item\"><div class=\"sk-label-container\"><div class=\"sk-label sk-toggleable\"><input class=\"sk-toggleable__control sk-hidden--visually\" id=\"sk-estimator-id-3\" type=\"checkbox\" ><label for=\"sk-estimator-id-3\" class=\"sk-toggleable__label sk-toggleable__label-arrow\">num</label><div class=\"sk-toggleable__content\"><pre>[&#x27;height&#x27;, &#x27;age&#x27;, &#x27;appearance&#x27;, &#x27;goals&#x27;, &#x27;assists&#x27;, &#x27;yellow cards&#x27;, &#x27;second yellow cards&#x27;, &#x27;red cards&#x27;, &#x27;goals conceded&#x27;, &#x27;clean sheets&#x27;, &#x27;minutes played&#x27;, &#x27;days_injured&#x27;, &#x27;games_injured&#x27;, &#x27;award&#x27;, &#x27;highest_value&#x27;, &#x27;position_encoded&#x27;, &#x27;winger&#x27;]</pre></div></div></div><div class=\"sk-serial\"><div class=\"sk-item\"><div class=\"sk-estimator sk-toggleable\"><input class=\"sk-toggleable__control sk-hidden--visually\" id=\"sk-estimator-id-4\" type=\"checkbox\" ><label for=\"sk-estimator-id-4\" class=\"sk-toggleable__label sk-toggleable__label-arrow\">StandardScaler</label><div class=\"sk-toggleable__content\"><pre>StandardScaler()</pre></div></div></div></div></div></div><div class=\"sk-parallel-item\"><div class=\"sk-item\"><div class=\"sk-label-container\"><div class=\"sk-label sk-toggleable\"><input class=\"sk-toggleable__control sk-hidden--visually\" id=\"sk-estimator-id-5\" type=\"checkbox\" ><label for=\"sk-estimator-id-5\" class=\"sk-toggleable__label sk-toggleable__label-arrow\">cat</label><div class=\"sk-toggleable__content\"><pre>[&#x27;team&#x27;, &#x27;position&#x27;]</pre></div></div></div><div class=\"sk-serial\"><div class=\"sk-item\"><div class=\"sk-estimator sk-toggleable\"><input class=\"sk-toggleable__control sk-hidden--visually\" id=\"sk-estimator-id-6\" type=\"checkbox\" ><label for=\"sk-estimator-id-6\" class=\"sk-toggleable__label sk-toggleable__label-arrow\">OneHotEncoder</label><div class=\"sk-toggleable__content\"><pre>OneHotEncoder()</pre></div></div></div></div></div></div></div></div><div class=\"sk-item\"><div class=\"sk-estimator sk-toggleable\"><input class=\"sk-toggleable__control sk-hidden--visually\" id=\"sk-estimator-id-7\" type=\"checkbox\" ><label for=\"sk-estimator-id-7\" class=\"sk-toggleable__label sk-toggleable__label-arrow\">RandomForestRegressor</label><div class=\"sk-toggleable__content\"><pre>RandomForestRegressor(random_state=42)</pre></div></div></div></div></div></div></div>"
            ]
          },
          "metadata": {},
          "execution_count": 10
        }
      ]
    },
    {
      "cell_type": "code",
      "source": [
        "# se realizan las predicciones\n",
        "y_pred = model.predict(X_test)"
      ],
      "metadata": {
        "id": "dQTBncJpNKGb"
      },
      "execution_count": 11,
      "outputs": []
    },
    {
      "cell_type": "code",
      "source": [
        "# Se evalua el modelo\n",
        "rmse = np.sqrt(mean_squared_error(y_test, y_pred))\n",
        "print(f'RMSE: {rmse}')"
      ],
      "metadata": {
        "id": "q0WFFbBENX7_",
        "colab": {
          "base_uri": "https://localhost:8080/"
        },
        "outputId": "17482ab7-04c2-4086-d203-dfc529ca5024"
      },
      "execution_count": 14,
      "outputs": [
        {
          "output_type": "stream",
          "name": "stdout",
          "text": [
            "RMSE: 4.732789437782915\n"
          ]
        }
      ]
    },
    {
      "cell_type": "code",
      "source": [
        "# Para predecir el rendimiento futuro\n",
        "targets = ['goals', 'assists', 'minutes played']\n",
        "predictions = {}\n",
        "\n",
        "for target in targets:\n",
        "    y = data[target]\n",
        "    X_train, X_test, y_train, y_test = train_test_split(features, y, test_size=0.2, random_state=42)\n",
        "\n",
        "    model.fit(X_train, y_train)\n",
        "\n",
        "    y_pred = model.predict(X_test)\n",
        "    rmse = np.sqrt(mean_squared_error(y_test, y_pred))\n",
        "    predictions[target] = rmse\n",
        "    print(f'RMSE for {target}: {rmse}')"
      ],
      "metadata": {
        "colab": {
          "base_uri": "https://localhost:8080/"
        },
        "id": "LMxrsgbeS0CI",
        "outputId": "5c8e4846-9db3-4099-d7a1-3a63d936e0aa"
      },
      "execution_count": 15,
      "outputs": [
        {
          "output_type": "stream",
          "name": "stdout",
          "text": [
            "RMSE for goals: 0.026906835182623323\n",
            "RMSE for assists: 0.0028695290190454666\n",
            "RMSE for minutes played: 4.732789437782915\n"
          ]
        }
      ]
    },
    {
      "cell_type": "markdown",
      "source": [
        "# Conclusiones\n",
        "En este proyecto de ciencia de datos, hemos desarrollado y evaluado modelos predictivos para estimar el valor actual de mercado de jugadores de fútbol y predecir su rendimiento futuro en términos de goles, asistencias y minutos jugados. A continuación se presentan las conclusiones clave de nuestro análisis:\n",
        "\n",
        "  **1.-Modelos Predictivos para el Valor de Mercado:**\n",
        "\n",
        "  *Utilizando un modelo de regresión Random Forest, logramos predecir el valor de mercado actual de los jugadores con un RMSE de aproximadamente 4.7.\n",
        "\n",
        "  *La precisión del modelo puede ser mejorada mediante la optimización de hiperparámetros, la incorporación de características adicionales o el uso de técnicas avanzadas de modelado.\n",
        "\n",
        "**2.-Predicción del Rendimiento Futuro:**\n",
        "\n",
        "  *También desarrollamos modelos para predecir el rendimiento futuro de los jugadores, específicamente sus goles, asistencias y minutos jugados.\n",
        "\n",
        "  *Los resultados preliminares muestran que estos modelos tienen un RMSE relativamente bajo, lo que indica una capacidad razonable para prever el rendimiento futuro de los jugadores.\n",
        "\n",
        "  *La reducción de los datos y el ajuste de los hiperparámetros del modelo son necesarios para mejorar la precisión de estas predicciones.\n",
        "\n",
        "**3.-Importancia de las Características:**\n",
        "\n",
        "  *Nuestro análisis sugiere que variables como las apariciones, goles, asistencias, y la posición del jugador tienen una influencia significativa en el valor de mercado y el rendimiento futuro.\n",
        "\n",
        "  *La codificación adecuada de variables categóricas y la normalización de variables numéricas son cruciales para el rendimiento del modelo.\n",
        "\n",
        "  **4.-Aplicabilidad Comercial:**\n",
        "\n",
        "  *Para el Futbol Club Excelencia, los modelos desarrollados pueden ser una herramienta valiosa para la toma de decisiones estratégicas en la adquisición y desarrollo de jugadores.\n",
        "\n",
        "  *Con un sistema predictivo robusto, el club puede optimizar sus inversiones, enfocándose en jugadores con alto potencial de rendimiento y valorización en el mercado.\n",
        "\n",
        "  **5.-Futuras Direcciones:**\n",
        "\n",
        "  *La inclusión de datos adicionales como el historial de lesiones, rendimiento en entrenamientos, y factores externos (ej. transferencias de otros clubes) podría mejorar significativamente los modelos.\n",
        "\n",
        "  *La exploración de técnicas de modelado más avanzadas como redes neuronales profundas y el aprendizaje automático basado en ensamblaje podría proporcionar mejoras adicionales en la precisión predictiva.\n",
        "\n",
        "### En conclusión, este proyecto demuestra el potencial significativo de la ciencia de datos y el aprendizaje automático para apoyar la toma de decisiones en el ámbito del fútbol profesional, proporcionando herramientas valiosas para la gestión efectiva de talento y recursos en el deporte."
      ],
      "metadata": {
        "id": "wTy7QcpDS166"
      }
    }
  ]
}